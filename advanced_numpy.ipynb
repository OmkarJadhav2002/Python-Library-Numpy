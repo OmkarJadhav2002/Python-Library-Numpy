{
  "nbformat": 4,
  "nbformat_minor": 0,
  "metadata": {
    "colab": {
      "provenance": [],
      "include_colab_link": true
    },
    "kernelspec": {
      "name": "python3",
      "display_name": "Python 3"
    },
    "language_info": {
      "name": "python"
    }
  },
  "cells": [
    {
      "cell_type": "markdown",
      "metadata": {
        "id": "view-in-github",
        "colab_type": "text"
      },
      "source": [
        "<a href=\"https://colab.research.google.com/github/OmkarJadhav2002/Python-Library-Numpy/blob/main/advanced_numpy.ipynb\" target=\"_parent\"><img src=\"https://colab.research.google.com/assets/colab-badge.svg\" alt=\"Open In Colab\"/></a>"
      ]
    },
    {
      "cell_type": "markdown",
      "source": [
        "###`Q-1:` Find the nearest element in the array to a given integer.\n",
        "```\n",
        "Ex:- \n",
        "a=23 and array - [10 17 24 31 38 45 52 59].\n",
        "Nearest element is 24\n",
        "```\n",
        "Hint: Read about this function `argmin()`"
      ],
      "metadata": {
        "id": "1uamk9vAix0o"
      }
    },
    {
      "cell_type": "code",
      "source": [
        "import numpy as np"
      ],
      "metadata": {
        "id": "NGZTDnsVa6yM"
      },
      "execution_count": 1,
      "outputs": []
    },
    {
      "cell_type": "code",
      "source": [
        "arr = np.array([10, 17, 24, 31, 38, 45, 52, 59])\n",
        "# np.argmin(arr[3])\n",
        "a = 23\n",
        "arr[abs(arr - a).argmin()]"
      ],
      "metadata": {
        "id": "ddkpbpR6iySZ",
        "outputId": "f646b7ba-ed4d-46c5-cf6e-fbc3c101e2d7",
        "colab": {
          "base_uri": "https://localhost:8080/"
        }
      },
      "execution_count": 6,
      "outputs": [
        {
          "output_type": "execute_result",
          "data": {
            "text/plain": [
              "24"
            ]
          },
          "metadata": {},
          "execution_count": 6
        }
      ]
    },
    {
      "cell_type": "markdown",
      "source": [
        "###`Q-2:` Replace multiples of 3 or 5 as 0 in the given array.\n",
        "```\n",
        "arr=[1 2 3 4 5 6 7 9]\n",
        "\n",
        "result-> [1 2 0 4 0 0 7 0]\n",
        "```"
      ],
      "metadata": {
        "id": "Y1QkHyPpizyp"
      }
    },
    {
      "cell_type": "code",
      "source": [
        "arr = np.array([1, 2, 3, 4, 3, 6, 7, 5, 9])\n",
        "# def replace(arr):\n",
        "#   mul_of_3_5 = []\n",
        "#   for i in range(len(arr)):\n",
        "#     if arr[i] % 3 == 0 or arr[i] % 5 == 0:\n",
        "#       mul_of_3_5.append(arr[i])  # numpy function\n",
        "  \n",
        "#   print(\"Original array: \", arr)\n",
        "\n",
        "#   for i in range(len(arr)):\n",
        "#     if arr[i] in mul_of_3_5:\n",
        "#       arr[i] = 0\n",
        "\n",
        "#   print(\"Array after replacing elements: \", arr)\n",
        "\n",
        "# replace(arr)\n",
        "\n",
        "# or\n",
        "arr[(arr%3==0) | (arr%5==0)] = 0\n",
        "arr"
      ],
      "metadata": {
        "id": "JjtxMlhWi25l",
        "outputId": "b9a8a534-9566-46bf-cfa6-0102a35dcf02",
        "colab": {
          "base_uri": "https://localhost:8080/"
        }
      },
      "execution_count": 9,
      "outputs": [
        {
          "output_type": "execute_result",
          "data": {
            "text/plain": [
              "array([1, 2, 0, 4, 0, 0, 7, 0, 0])"
            ]
          },
          "metadata": {},
          "execution_count": 9
        }
      ]
    },
    {
      "cell_type": "markdown",
      "source": [
        "###`Q-3:` Use Fancy Indexing.\n",
        "1. Double the array elements at  given indexes\n",
        "```\n",
        "arr = np.arrange(10)\n",
        "indexes = [0,3,4,9]\n",
        "```\n",
        "Result -> `[ 0  1  2  6  8  5  6  7  8 18]`\n",
        "\n",
        "2. Using a given array make a different array as in below example\n",
        "```\n",
        "array = [1,2,3]\n",
        "result array -> [1 1 1 2 2 2 3 3 3]\n",
        "```\n",
        "* Internal-repetion should be as length of the array.\n",
        "\n",
        "Hint: \n",
        "```\n",
        "if a is an array\n",
        "a = [2,4]\n",
        "a[[1,1,0,1]] will result in-> [4 4 2 4]\n",
        "```"
      ],
      "metadata": {
        "id": "Pi_dZSwTi4OI"
      }
    },
    {
      "cell_type": "code",
      "source": [
        "# 1\n",
        "arr = np.arange(10)\n",
        "indexes = [0, 3, 4, 9]\n",
        "arr[indexes] *= 2\n",
        "arr"
      ],
      "metadata": {
        "id": "SHYuyuovi66N",
        "outputId": "9f1eee0c-572f-465c-d9d7-dc260e398031",
        "colab": {
          "base_uri": "https://localhost:8080/"
        }
      },
      "execution_count": 12,
      "outputs": [
        {
          "output_type": "execute_result",
          "data": {
            "text/plain": [
              "array([ 0,  1,  2,  6,  8,  5,  6,  7,  8, 18])"
            ]
          },
          "metadata": {},
          "execution_count": 12
        }
      ]
    },
    {
      "cell_type": "code",
      "source": [
        "# 2\n",
        "# def repeat(arr, n):\n",
        "#   return np.repeat(arr, n)\n",
        "\n",
        "\n",
        "# a = np.array([1, 2, 3])\n",
        "# repeat(a, 3)\n",
        "\n",
        "arr = np.array([1, 2, 3, 4])\n",
        "nums = []\n",
        "for num in range(len(arr)):\n",
        "  nums.extend([num] * len(arr))\n",
        "\n",
        "arr[nums]"
      ],
      "metadata": {
        "colab": {
          "base_uri": "https://localhost:8080/"
        },
        "id": "VXwPyCL-3bsQ",
        "outputId": "0e362b4f-8c5f-439c-d3b0-175610d0da86"
      },
      "execution_count": 23,
      "outputs": [
        {
          "output_type": "execute_result",
          "data": {
            "text/plain": [
              "array([1, 1, 1, 1, 2, 2, 2, 2, 3, 3, 3, 3, 4, 4, 4, 4])"
            ]
          },
          "metadata": {},
          "execution_count": 23
        }
      ]
    },
    {
      "cell_type": "markdown",
      "source": [
        "###`Q-4:` Your are given an array which is havig some nan value. You job is to fill those nan values with most common element in the array.\n",
        "```\n",
        "arr=np.array([[1,2,np.nan],[4,2,6],[np.nan,np.nan,5]])\n",
        "\n",
        "```"
      ],
      "metadata": {
        "id": "UDehG0tFi89i"
      }
    },
    {
      "cell_type": "code",
      "source": [
        "arr = np.array([[1,2,np.nan],[4,2,6],[np.nan,np.nan,5]])\n",
        "print(arr, '\\n')\n",
        "\n",
        "d  = {} # stores key value pairs\n",
        "for i in arr.flatten():\n",
        "  if i in d:\n",
        "    d[i] += 1\n",
        "  else:\n",
        "    d[i] = 1\n",
        "\n",
        "arr[np.isnan(arr)] = (sorted(d.items(), key = lambda x: x[1])[-1][0]).astype(int)\n",
        "arr"
      ],
      "metadata": {
        "id": "YH13A6w9jEyu",
        "colab": {
          "base_uri": "https://localhost:8080/"
        },
        "outputId": "322f4c53-3c7e-4986-c760-21af01cc0dcd"
      },
      "execution_count": 40,
      "outputs": [
        {
          "output_type": "stream",
          "name": "stdout",
          "text": [
            "[[ 1.  2. nan]\n",
            " [ 4.  2.  6.]\n",
            " [nan nan  5.]] \n",
            "\n"
          ]
        },
        {
          "output_type": "execute_result",
          "data": {
            "text/plain": [
              "array([[1., 2., 2.],\n",
              "       [4., 2., 6.],\n",
              "       [2., 2., 5.]])"
            ]
          },
          "metadata": {},
          "execution_count": 40
        }
      ]
    },
    {
      "cell_type": "markdown",
      "source": [
        "### `Q-5:` Write a NumPy program \n",
        "\n",
        "- to find the missing data in a given array. Return a boolean matrix.\n",
        "- also try to fill those missing values with 0. For that, you can use `np.nan_to_num(a)`\n",
        "\n",
        "```python\n",
        "import numpy as np\n",
        "\n",
        "np.array([[3, 2, np.nan, 1],\n",
        "          [10, 12, 10, 9],\n",
        "          [5, np.nan, 1, np.nan]])\n",
        "```"
      ],
      "metadata": {
        "id": "Tk2JnioUjJ_t"
      }
    },
    {
      "cell_type": "code",
      "source": [
        "# 1\n",
        "arr = np.array([[3, 2, np.nan, 1],\n",
        "          [10, 12, 10, 9],\n",
        "          [5, np.nan, 1, np.nan]])\n",
        "\n",
        "np.isnan(arr)"
      ],
      "metadata": {
        "id": "nPEBTQJ_jJZe",
        "colab": {
          "base_uri": "https://localhost:8080/"
        },
        "outputId": "e7a2d9c1-f80b-4aeb-c355-7fa293105d2e"
      },
      "execution_count": 41,
      "outputs": [
        {
          "output_type": "execute_result",
          "data": {
            "text/plain": [
              "array([[False, False,  True, False],\n",
              "       [False, False, False, False],\n",
              "       [False,  True, False,  True]])"
            ]
          },
          "metadata": {},
          "execution_count": 41
        }
      ]
    },
    {
      "cell_type": "code",
      "source": [
        "# 2\n",
        "np.nan_to_num(arr)"
      ],
      "metadata": {
        "colab": {
          "base_uri": "https://localhost:8080/"
        },
        "id": "NnDJfwyo_ElM",
        "outputId": "2da2dec5-660a-441b-a8c9-0ca6a13ae190"
      },
      "execution_count": 42,
      "outputs": [
        {
          "output_type": "execute_result",
          "data": {
            "text/plain": [
              "array([[ 3.,  2.,  0.,  1.],\n",
              "       [10., 12., 10.,  9.],\n",
              "       [ 5.,  0.,  1.,  0.]])"
            ]
          },
          "metadata": {},
          "execution_count": 42
        }
      ]
    },
    {
      "cell_type": "markdown",
      "source": [
        "###`Q-6:` Given two arrays, X and Y, construct the Cauchy matrix C.\n",
        "`Cij =1/(xi - yj)`\n",
        "\n",
        "http://en.wikipedia.org/wiki/Cauchy_matrix\n",
        "```\n",
        "x = numpy.array([1,2,3,4]).reshape((-1, 1)\n",
        "y = numpy.array([5,6,7])\n",
        "```"
      ],
      "metadata": {
        "id": "FFUnZtG7jNBH"
      }
    },
    {
      "cell_type": "code",
      "source": [
        "# Broadcasting\n",
        "x = np.array([1,2,3,4]).reshape(-1, 1)\n",
        "y = np.array([5,6,7])\n",
        "print(x, '\\n')\n",
        "print(y, '\\n')\n",
        "\n",
        "c = 1/(x - y)\n",
        "print(\"Cauchy Matrix:\\n\", c)"
      ],
      "metadata": {
        "id": "pQXHa38TjVEh",
        "colab": {
          "base_uri": "https://localhost:8080/"
        },
        "outputId": "a89776eb-be65-41ef-8031-3bc92b7e2975"
      },
      "execution_count": 49,
      "outputs": [
        {
          "output_type": "stream",
          "name": "stdout",
          "text": [
            "[[1]\n",
            " [2]\n",
            " [3]\n",
            " [4]] \n",
            "\n",
            "[5 6 7] \n",
            "\n",
            "Cauchy Matrix:\n",
            " [[-0.25       -0.2        -0.16666667]\n",
            " [-0.33333333 -0.25       -0.2       ]\n",
            " [-0.5        -0.33333333 -0.25      ]\n",
            " [-1.         -0.5        -0.33333333]]\n"
          ]
        }
      ]
    },
    {
      "cell_type": "markdown",
      "source": [
        "###`Q-7:` Plot this below equation.\n",
        "\n",
        "$$\\large y = \\frac{e^x - e^{-x}}{e^x + e^{-x}}$$\n",
        "\n",
        "**Note: This equation is called tanh activation function. In deep learning, many times this function is used. If you find some difference between the sigmoid function and this tanh function, note that to your notebook.**"
      ],
      "metadata": {
        "id": "EbkHZCF1jWNc"
      }
    },
    {
      "cell_type": "code",
      "source": [
        "import matplotlib.pyplot as plt\n",
        "# x = np.arange(10).reshape(2, 5)\n",
        "x = np.linspace(-30, 30, 1000)\n",
        "# print(arr, '\\n')\n",
        "\n",
        "x_exp_p = np.exp(x)\n",
        "x_exp_n = np.exp(-x)\n",
        "# print(x_exp_p, '\\n')\n",
        "# print(x_exp_n, '\\n')\n",
        "y = (x_exp_p - x_exp_n)/(x_exp_p + x_exp_n)\n",
        "\n",
        "# Plot the activation function\n",
        "plt.plot(x, y)\n",
        "plt.title(\"Activation Function\");"
      ],
      "metadata": {
        "id": "n6OcN--FjbLC",
        "colab": {
          "base_uri": "https://localhost:8080/",
          "height": 281
        },
        "outputId": "497a7ca3-ace4-4083-e589-fae878d934ba"
      },
      "execution_count": 74,
      "outputs": [
        {
          "output_type": "display_data",
          "data": {
            "text/plain": [
              "<Figure size 432x288 with 1 Axes>"
            ],
            "image/png": "[encoded data removed]"
          },
          "metadata": {
            "needs_background": "light"
          }
        }
      ]
    },
    {
      "cell_type": "markdown",
      "source": [
        "### `Q-8:` Plot the below equation.\n",
        "\n",
        "$$\\large y = \\sqrt{36 - (x - 4)^2} + 2$$\n",
        "\n",
        "The range of x should be between -2 to 10. $x ∈ [-2, 10]$\n",
        "\n"
      ],
      "metadata": {
        "id": "xujS-pu4jciH"
      }
    },
    {
      "cell_type": "code",
      "source": [
        "# x = np.random.randint(-2, 10, 10)\n",
        "# x = np.arange(-2, 10)\n",
        "x = np.linspace(-2, 10, 100)\n",
        "print(x, '\\n')\n",
        "\n",
        "y = np.sqrt(36-(x-4)**2) + 2\n",
        "print(y, '\\n')\n",
        "\n",
        "plt.plot(x, y);"
      ],
      "metadata": {
        "id": "7CagwKP_jhIQ",
        "colab": {
          "base_uri": "https://localhost:8080/",
          "height": 890
        },
        "outputId": "22bb4b45-7f68-4797-f07a-bd8ccbbaccb4"
      },
      "execution_count": 85,
      "outputs": [
        {
          "output_type": "stream",
          "name": "stdout",
          "text": [
            "[-2.         -1.87878788 -1.75757576 -1.63636364 -1.51515152 -1.39393939\n",
            " -1.27272727 -1.15151515 -1.03030303 -0.90909091 -0.78787879 -0.66666667\n",
            " -0.54545455 -0.42424242 -0.3030303  -0.18181818 -0.06060606  0.06060606\n",
            "  0.18181818  0.3030303   0.42424242  0.54545455  0.66666667  0.78787879\n",
            "  0.90909091  1.03030303  1.15151515  1.27272727  1.39393939  1.51515152\n",
            "  1.63636364  1.75757576  1.87878788  2.          2.12121212  2.24242424\n",
            "  2.36363636  2.48484848  2.60606061  2.72727273  2.84848485  2.96969697\n",
            "  3.09090909  3.21212121  3.33333333  3.45454545  3.57575758  3.6969697\n",
            "  3.81818182  3.93939394  4.06060606  4.18181818  4.3030303   4.42424242\n",
            "  4.54545455  4.66666667  4.78787879  4.90909091  5.03030303  5.15151515\n",
            "  5.27272727  5.39393939  5.51515152  5.63636364  5.75757576  5.87878788\n",
            "  6.          6.12121212  6.24242424  6.36363636  6.48484848  6.60606061\n",
            "  6.72727273  6.84848485  6.96969697  7.09090909  7.21212121  7.33333333\n",
            "  7.45454545  7.57575758  7.6969697   7.81818182  7.93939394  8.06060606\n",
            "  8.18181818  8.3030303   8.42424242  8.54545455  8.66666667  8.78787879\n",
            "  8.90909091  9.03030303  9.15151515  9.27272727  9.39393939  9.51515152\n",
            "  9.63636364  9.75757576  9.87878788 10.        ] \n",
            "\n",
            "[2.         3.19993878 3.68828949 4.05703791 4.36285924 4.62781617\n",
            " 4.86327559 5.0760188  5.27048183 5.44975745 5.61610519 5.77123617\n",
            " 5.9164835  6.05290994 6.18137898 6.30260348 6.41717992 6.52561326\n",
            " 6.6283353  6.72571847 6.81808652 6.90572275 6.98887652 7.06776848\n",
            " 7.14259477 7.21353046 7.28073234 7.34434126 7.40448408 7.46127531\n",
            " 7.5148185  7.56520741 7.61252698 7.65685425 7.69825904 7.73680464\n",
            " 7.77254832 7.80554183 7.83583181 7.86346018 7.88846439 7.91087774\n",
            " 7.93072961 7.94804565 7.96284794 7.97515517 7.98498274 7.99234283\n",
            " 7.99724455 7.9996939  7.9996939  7.99724455 7.99234283 7.98498274\n",
            " 7.97515517 7.96284794 7.94804565 7.93072961 7.91087774 7.88846439\n",
            " 7.86346018 7.83583181 7.80554183 7.77254832 7.73680464 7.69825904\n",
            " 7.65685425 7.61252698 7.56520741 7.5148185  7.46127531 7.40448408\n",
            " 7.34434126 7.28073234 7.21353046 7.14259477 7.06776848 6.98887652\n",
            " 6.90572275 6.81808652 6.72571847 6.6283353  6.52561326 6.41717992\n",
            " 6.30260348 6.18137898 6.05290994 5.9164835  5.77123617 5.61610519\n",
            " 5.44975745 5.27048183 5.0760188  4.86327559 4.62781617 4.36285924\n",
            " 4.05703791 3.68828949 3.19993878 2.        ] \n",
            "\n"
          ]
        },
        {
          "output_type": "display_data",
          "data": {
            "text/plain": [
              "<Figure size 432x288 with 1 Axes>"
            ],
            "image/png": "[encoded data removed]"
          },
          "metadata": {
            "needs_background": "light"
          }
        }
      ]
    },
    {
      "cell_type": "markdown",
      "source": [
        "### `Q-9:` Write a program implement Broadcasting Rule to check if two array can be added or not.\n",
        "Given tuples of shapes.\n",
        "```\n",
        "shape of a- (3,2,2)\n",
        "shape of b- (2,2)\n",
        "\n",
        "check_broadcast(a, b) -> return Boolean (True if can broadcasted, False other wise.)\n",
        "```"
      ],
      "metadata": {
        "id": "Jf14pxCfjiX1"
      }
    },
    {
      "cell_type": "code",
      "source": [
        "def check_broad(s1, s2):\n",
        "  s1 = s1[::-1]\n",
        "  s2 = s2[::-1]\n",
        "\n",
        "  for i, j in zip(s1, s2):\n",
        "    if i != j and i != 1 and j != 1:\n",
        "      return False\n",
        "\n",
        "  return True\n",
        "\n",
        "check_broad((4, 3, 5, 2), (3, 2))"
      ],
      "metadata": {
        "id": "qSKGG0Yajlc8",
        "colab": {
          "base_uri": "https://localhost:8080/"
        },
        "outputId": "ee6bfc04-972e-4da4-99ce-8569e9c52e4e"
      },
      "execution_count": 94,
      "outputs": [
        {
          "output_type": "execute_result",
          "data": {
            "text/plain": [
              "False"
            ]
          },
          "metadata": {},
          "execution_count": 94
        }
      ]
    }
  ]
}