{
  "nbformat": 4,
  "nbformat_minor": 0,
  "metadata": {
    "colab": {
      "provenance": [],
      "include_colab_link": true
    },
    "kernelspec": {
      "name": "python3",
      "display_name": "Python 3"
    },
    "language_info": {
      "name": "python"
    }
  },
  "cells": [
    {
      "cell_type": "markdown",
      "metadata": {
        "id": "view-in-github",
        "colab_type": "text"
      },
      "source": [
        "<a href=\"https://colab.research.google.com/github/OmkarJadhav2002/Python-Library-Numpy/blob/main/NumPy_tricks.ipynb\" target=\"_parent\"><img src=\"https://colab.research.google.com/assets/colab-badge.svg\" alt=\"Open In Colab\"/></a>"
      ]
    },
    {
      "cell_type": "markdown",
      "source": [
        "###`Q-1:` Create a random 3x4 matrix with value between 0-100. And perform below tasks\n",
        "\n",
        "    i. Sort this matrix. np.sort()\n",
        "    ii. Sort this matrix based on values in 2nd column.\n",
        "    iii. Sort this matrix based on max value in each row.\n",
        "    iv. Sort based on elements value.\n"
      ],
      "metadata": {
        "id": "J88qfqQEk_sT"
      }
    },
    {
      "cell_type": "code",
      "source": [
        "import numpy as np"
      ],
      "metadata": {
        "id": "xSJqAlNlJZgX"
      },
      "execution_count": 1,
      "outputs": []
    },
    {
      "cell_type": "markdown",
      "source": [
        "See examples:\n",
        "```\n",
        "arr = \n",
        "    [[92 90 74]\n",
        "    [ 6 63 93]\n",
        "    [15 93 96]\n",
        "    [70 60 48]]\n",
        "```\n",
        "```\n",
        "i. np.sort\n",
        "[[74 90 92]\n",
        " [ 6 63 93]\n",
        " [15 93 96]\n",
        " [48 60 70]]\n",
        "\n",
        "ii. based on 2nd column\n",
        "[[70 60 48]\n",
        " [ 6 63 93]\n",
        " [92 90 74]\n",
        " [15 93 96]]\n",
        "\n",
        "iii. based on row max- ascending\n",
        "[[15 93 96]\n",
        " [ 6 63 93]\n",
        " [92 90 74]\n",
        " [70 60 48]]\n",
        "\n",
        "iv. based on elements value\n",
        "[[ 6 15 48]\n",
        " [60 63 70]\n",
        " [74 90 92]\n",
        " [93 93 96]]\n",
        "\n",
        "```"
      ],
      "metadata": {
        "id": "xpOwOdhqlE9R"
      }
    },
    {
      "cell_type": "code",
      "source": [
        "np.random.seed(42)\n",
        "arr = np.random.randint(0, 100, (4, 3))\n",
        "print(\"Given arraY:\\n\", arr, '\\n')\n",
        "\n",
        "# 1\n",
        "print(\"Sorted array:\\n\", np.sort(arr), '\\n')\n",
        "\n",
        "# 2\n",
        "print(\"Sorting based on second column:\\n\", arr[np.argsort(arr[:, 1])], '\\n')\n",
        "# or\n",
        "# arr[arr[:, 1].argsort()]\n",
        "\n",
        "# 3\n",
        "res = np.array(sorted(arr, key = lambda x: max(x)))\n",
        "print(\"Sorting the matrix based on max value in each row:\\n\", res)\n",
        "\n",
        "# 4\n",
        "print(\"\\nSorting based on elements:\\n\", np.sort(arr, axis=None).reshape(4, 3))"
      ],
      "metadata": {
        "id": "Auy-guUwlALv",
        "colab": {
          "base_uri": "https://localhost:8080/"
        },
        "outputId": "ce51767c-0063-46cb-8ed1-da6a41921658"
      },
      "execution_count": 17,
      "outputs": [
        {
          "output_type": "stream",
          "name": "stdout",
          "text": [
            "Given arraY:\n",
            " [[51 92 14]\n",
            " [71 60 20]\n",
            " [82 86 74]\n",
            " [74 87 99]] \n",
            "\n",
            "Sorted array:\n",
            " [[14 51 92]\n",
            " [20 60 71]\n",
            " [74 82 86]\n",
            " [74 87 99]] \n",
            "\n",
            "Sorting based on second column:\n",
            " [[71 60 20]\n",
            " [82 86 74]\n",
            " [74 87 99]\n",
            " [51 92 14]] \n",
            "\n",
            "Sorting the matrix based on max value in each row:\n",
            " [[71 60 20]\n",
            " [82 86 74]\n",
            " [51 92 14]\n",
            " [74 87 99]]\n",
            "\n",
            "Sorting based on elements:\n",
            " [[14 20 51]\n",
            " [60 71 74]\n",
            " [74 82 86]\n",
            " [87 92 99]]\n"
          ]
        }
      ]
    },
    {
      "cell_type": "markdown",
      "source": [
        "###`Q-2:` There is an array of marks of 5 students in 4 subjects. Further you are asked to perform below task.\n",
        "    i. Add marks every student of an extra subject in the same array.\n",
        "    ii. Add two new students marks in respective 5 subjects.(one subject added in above task)\n",
        "    iii. Add extra column with sum of all subjects(5-subjects) marks\n",
        "    iv. Sort the array(non-ascending order) on total marks column--one added in above task. Show top 2 rows.\n",
        "\n",
        "Note: Change dimension of arrays during concatenation or appending if required."
      ],
      "metadata": {
        "id": "Jx_I3gx9lBay"
      }
    },
    {
      "cell_type": "markdown",
      "source": [
        "Given Array-\n",
        "```\n",
        "marks = [[13, 10,  9, 33],\n",
        "       [63, 46, 90, 42],\n",
        "       [39, 76, 13, 29],\n",
        "       [82,  9, 29, 78],\n",
        "       [67, 61, 59, 36]]\n",
        "\n",
        "extra_subject = [41, 87, 72, 36, 92]\n",
        "#Two extra students record-\n",
        "rec1 = [77, 83, 98, 95, 89]\n",
        "rec2 = [92, 71, 52, 61, 53]\n",
        "```"
      ],
      "metadata": {
        "id": "lXF-CE6ylNIw"
      }
    },
    {
      "cell_type": "code",
      "source": [
        "marks = np.array([[13, 10,  9, 33],\n",
        "       [63, 46, 90, 42],\n",
        "       [39, 76, 13, 29],\n",
        "       [82,  9, 29, 78],\n",
        "       [67, 61, 59, 36]])\n",
        "\n",
        "extra_subject = np.array([41, 87, 72, 36, 92]).reshape(-1, 1)\n",
        "# print(extra_subject)\n",
        "\n",
        "# 1\n",
        "new_marks1 = np.concatenate([marks, extra_subject], axis=1)\n",
        "print(\"New array after adding the extra subjects marks:\\n\", new_marks1)\n",
        "\n",
        "# 2\n",
        "rec1 = np.array([77, 83, 98, 95, 89]).reshape(1, -1)\n",
        "rec2 = np.array([92, 71, 52, 61, 53]).reshape(1, -1)\n",
        "\n",
        "new_marks2 = np.concatenate([new_marks1, rec1, rec2], axis=0)\n",
        "print(\"\\nNew array after adding the marks of new students:\\n\", new_marks2)\n",
        "\n",
        "# 3\n",
        "sum_of_sub = np.sum(new_marks2, axis=1, keepdims=True)\n",
        "new_marks3 = np.concatenate([new_marks2, sum_of_sub], axis=1)\n",
        "print(\"\\nNew array after adding the total sum column:\\n\", new_marks3)\n",
        "\n",
        "# 4\n",
        "new_marks4 = np.array(sorted(new_marks3, key = lambda x: x[-1], reverse=True))[:2, :]\n",
        "print(\"\\nSorted array based on last column:\\n\", new_marks4)"
      ],
      "metadata": {
        "id": "7YKsWO2olMkq",
        "colab": {
          "base_uri": "https://localhost:8080/"
        },
        "outputId": "646ae827-6145-424c-a4ae-5d69b733f076"
      },
      "execution_count": 49,
      "outputs": [
        {
          "output_type": "stream",
          "name": "stdout",
          "text": [
            "New array after adding the extra subjects marks:\n",
            " [[13 10  9 33 41]\n",
            " [63 46 90 42 87]\n",
            " [39 76 13 29 72]\n",
            " [82  9 29 78 36]\n",
            " [67 61 59 36 92]]\n",
            "\n",
            "New array after adding the marks of new students:\n",
            " [[13 10  9 33 41]\n",
            " [63 46 90 42 87]\n",
            " [39 76 13 29 72]\n",
            " [82  9 29 78 36]\n",
            " [67 61 59 36 92]\n",
            " [77 83 98 95 89]\n",
            " [92 71 52 61 53]]\n",
            "\n",
            "New array after adding the total sum column:\n",
            " [[ 13  10   9  33  41 106]\n",
            " [ 63  46  90  42  87 328]\n",
            " [ 39  76  13  29  72 229]\n",
            " [ 82   9  29  78  36 234]\n",
            " [ 67  61  59  36  92 315]\n",
            " [ 77  83  98  95  89 442]\n",
            " [ 92  71  52  61  53 329]]\n",
            "\n",
            "Sorted array based on last column:\n",
            " [[ 77  83  98  95  89 442]\n",
            " [ 92  71  52  61  53 329]]\n"
          ]
        }
      ]
    },
    {
      "cell_type": "markdown",
      "source": [
        "###`Q-3:` Find unique arrays from a 2D array column wise and row wise.\n",
        "```\n",
        "arr = np.array([[1,2,3,3,1,1],\n",
        "                [0,9,1,2,8,8],\n",
        "                [1,2,3,8,8,8],\n",
        "                [1,2,3,3,1,1]])\n",
        "```\n",
        "Expected Result-\n",
        "```\n",
        "Row Wise\n",
        "[[0 9 1 2 8 8]\n",
        " [1 2 3 3 1 1]\n",
        " [1 2 3 8 8 8]]\n",
        "\n",
        "Col Wise\n",
        "[[1 1 2 3 3]\n",
        " [0 8 9 1 2]\n",
        " [1 8 2 3 8]\n",
        " [1 1 2 3 3]]\n",
        "```"
      ],
      "metadata": {
        "id": "VmOyK_8klRqR"
      }
    },
    {
      "cell_type": "code",
      "source": [
        "# arr = np.random.randint(1, 10, 20).reshape(5, 4)\n",
        "# arr\n",
        "\n",
        "arr = np.array([[1,2,3,3,1,1],\n",
        "                [0,9,1,2,8,8],\n",
        "                [1,2,3,8,8,8],\n",
        "                [1,2,3,3,1,1]])\n",
        "\n",
        "print(\"Unique Row-wise:\\n\", np.unique(arr, axis=0), '\\n')\n",
        "print(\"Unique Column-wise:\\n\", np.unique(arr, axis=1), '\\n')"
      ],
      "metadata": {
        "id": "LJl10VQrlU5q",
        "colab": {
          "base_uri": "https://localhost:8080/"
        },
        "outputId": "b57fac79-5b20-49cf-9ef0-f3ce3236088d"
      },
      "execution_count": null,
      "outputs": [
        {
          "output_type": "stream",
          "name": "stdout",
          "text": [
            "Unique Row-wise:\n",
            " [[0 9 1 2 8 8]\n",
            " [1 2 3 3 1 1]\n",
            " [1 2 3 8 8 8]] \n",
            "\n",
            "Unique Column-wise:\n",
            " [[1 1 2 3 3]\n",
            " [0 8 9 1 2]\n",
            " [1 8 2 3 8]\n",
            " [1 1 2 3 3]] \n",
            "\n"
          ]
        }
      ]
    },
    {
      "cell_type": "markdown",
      "source": [
        "###`Q-4:` Flip given 2-D array along both axes at the same time."
      ],
      "metadata": {
        "id": "RaXwVkywlWY2"
      }
    },
    {
      "cell_type": "code",
      "source": [
        "arr = np.random.randint(1, 20, 20).reshape(5, 4)\n",
        "print(arr, '\\n')\n",
        "\n",
        "# np.flip(arr, axis=None)\n",
        "np.flip(arr, axis=[0, 1])"
      ],
      "metadata": {
        "id": "mN7-4G8Kleeq",
        "colab": {
          "base_uri": "https://localhost:8080/"
        },
        "outputId": "257ba5ed-5b48-4da8-9863-c6c619132699"
      },
      "execution_count": 50,
      "outputs": [
        {
          "output_type": "stream",
          "name": "stdout",
          "text": [
            "[[ 8  3  2 12]\n",
            " [ 6  2  1 12]\n",
            " [12 17 10 16]\n",
            " [15 15 19 12]\n",
            " [ 3  5 19  7]] \n",
            "\n"
          ]
        },
        {
          "output_type": "execute_result",
          "data": {
            "text/plain": [
              "array([[ 7, 19,  5,  3],\n",
              "       [12, 19, 15, 15],\n",
              "       [16, 10, 17, 12],\n",
              "       [12,  1,  2,  6],\n",
              "       [12,  2,  3,  8]])"
            ]
          },
          "metadata": {},
          "execution_count": 50
        }
      ]
    },
    {
      "cell_type": "markdown",
      "source": [
        "### `Q-5:` Get row numbers of NumPy array having element larger than X.\n",
        "```\n",
        "arr = [[1,2,3,4,5], \n",
        "      [10,-3,30,4,5], \n",
        "      [3,2,5,-4,5], \n",
        "      [9,7,3,6,5]] \n",
        "\n",
        "X = 6\n",
        "```"
      ],
      "metadata": {
        "id": "X0S7BUNTlfoq"
      }
    },
    {
      "cell_type": "code",
      "source": [
        "# code here\n",
        "arr = np.array([[1,2,3,4,5], \n",
        "      [10,-3,30,4,5], \n",
        "      [3,2,5,-4,5], \n",
        "      [9,7,3,6,5]]) \n",
        "\n",
        "np.where(np.any(arr>6, axis=1))  # np.any()"
      ],
      "metadata": {
        "id": "bi8jRmWhlkBU",
        "colab": {
          "base_uri": "https://localhost:8080/"
        },
        "outputId": "bcaf0dd6-1966-489d-9d38-007ea369a750"
      },
      "execution_count": null,
      "outputs": [
        {
          "output_type": "execute_result",
          "data": {
            "text/plain": [
              "(array([1, 3]),)"
            ]
          },
          "metadata": {},
          "execution_count": 54
        }
      ]
    },
    {
      "cell_type": "markdown",
      "source": [
        "### `Q-6:` How to convert an array of arrays into a flat 1d array?\n"
      ],
      "metadata": {
        "id": "DSCQMo4mlnDG"
      }
    },
    {
      "cell_type": "code",
      "source": [
        "# These arrays are given.\n",
        "arr1 = np.arange(3)\n",
        "arr2 = np.arange(3,7)\n",
        "arr3 = np.arange(7,10)"
      ],
      "metadata": {
        "id": "QZhSkUT2lsJW"
      },
      "execution_count": 52,
      "outputs": []
    },
    {
      "cell_type": "code",
      "source": [
        "# code here\n",
        "np.concatenate([arr1, arr2, arr3])\n",
        "\n",
        "# or \n",
        "# arr = np.random.randint(0, 100, 20).reshape(5, 4)\n",
        "# print(arr)\n",
        "\n",
        "# print(\"\\n2D array converted to 1D array: \")\n",
        "# arr.flatten()"
      ],
      "metadata": {
        "id": "f42OXNrFls0I",
        "colab": {
          "base_uri": "https://localhost:8080/"
        },
        "outputId": "3343a801-6b2b-42e6-d0ea-1b430f4ee4cc"
      },
      "execution_count": 53,
      "outputs": [
        {
          "output_type": "execute_result",
          "data": {
            "text/plain": [
              "array([0, 1, 2, 3, 4, 5, 6, 7, 8, 9])"
            ]
          },
          "metadata": {},
          "execution_count": 53
        }
      ]
    },
    {
      "cell_type": "markdown",
      "source": [
        "### `Q-7:` You are given a array. You have to find the minimum and maximum array element and remove that from the array.\n",
        "\n",
        "```python\n",
        "import numpy as np\n",
        "\n",
        "np.random.seed(400)\n",
        "arr = np.random.randint(100, 1000, 200).reshape((1, 200))\n",
        "```"
      ],
      "metadata": {
        "id": "A1J4oOVCluqO"
      }
    },
    {
      "cell_type": "code",
      "source": [
        "# code here\n",
        "np.random.seed(400)\n",
        "arr = np.random.randint(100, 1000, 200).reshape((1, 200))\n",
        "print(arr)\n",
        "\n",
        "m1 = arr.argmax()\n",
        "m2 = arr.argmin()\n",
        "\n",
        "print(\"\\nMaximum element position: \", m1)\n",
        "print(\"Minimum element position: \", m2)\n",
        "\n",
        "print(\"Maximum element: \", arr.max())\n",
        "print(\"Minimum element: \", arr.min())\n",
        "\n",
        "print(\"\\nNew array:\")\n",
        "arr = np.delete(arr, m1, axis=1)\n",
        "arr = np.delete(arr, m2, axis=1)\n",
        "print(arr)\n",
        "print(\"New max element: \", arr.max())\n",
        "print(\"New min element: \", arr.min())"
      ],
      "metadata": {
        "id": "c6kmgtUJlybZ",
        "colab": {
          "base_uri": "https://localhost:8080/"
        },
        "outputId": "4115281d-b112-43c3-e9a3-7701ccc197d8"
      },
      "execution_count": 64,
      "outputs": [
        {
          "output_type": "stream",
          "name": "stdout",
          "text": [
            "[[448 563 418 240 507 362 345 236 719 291 298 639 458 387 262 613 267 882\n",
            "  181 425 790 635 889 818 872 967 277 470 336 920 917 295 557 830 506 385\n",
            "  353 975 592 997 137 340 222 215 472 459 617 649 935 956 914 932 645 952\n",
            "  921 490 527 972 278 307 840 958 246 449 251 957 103 627 920 824 356 825\n",
            "  173 323 372 960 710 464 244 782 763 635 436 774 171 469 178 458 624 211\n",
            "  771 270 308 231 952 514 699 702 433 900 373 318 998 265 503 320 230 324\n",
            "  922 967 620 743 527 117 566 804 123 946 587 227 853 757 944 328 855 930\n",
            "  325 729 426 514 296 879 575 936 705 209 191 743 510 513 628 559 658 528\n",
            "  395 525 922 136 496 225 895 975 263 908 420 711 800 976 786 235 930 859\n",
            "  618 226 695 460 218 483 490 803 621 453 193 607 677 637 728 724 534 748\n",
            "  291 194 761 875 687 569 228 482 781 554 654 739 885 197 266 228 892 207\n",
            "  883 588]]\n",
            "\n",
            "Maximum element position:  102\n",
            "Minimum element position:  66\n",
            "Maximum element:  998\n",
            "Minimum element:  103\n",
            "\n",
            "New array:\n",
            "[[448 563 418 240 507 362 345 236 719 291 298 639 458 387 262 613 267 882\n",
            "  181 425 790 635 889 818 872 967 277 470 336 920 917 295 557 830 506 385\n",
            "  353 975 592 997 137 340 222 215 472 459 617 649 935 956 914 932 645 952\n",
            "  921 490 527 972 278 307 840 958 246 449 251 957 627 920 824 356 825 173\n",
            "  323 372 960 710 464 244 782 763 635 436 774 171 469 178 458 624 211 771\n",
            "  270 308 231 952 514 699 702 433 900 373 318 265 503 320 230 324 922 967\n",
            "  620 743 527 117 566 804 123 946 587 227 853 757 944 328 855 930 325 729\n",
            "  426 514 296 879 575 936 705 209 191 743 510 513 628 559 658 528 395 525\n",
            "  922 136 496 225 895 975 263 908 420 711 800 976 786 235 930 859 618 226\n",
            "  695 460 218 483 490 803 621 453 193 607 677 637 728 724 534 748 291 194\n",
            "  761 875 687 569 228 482 781 554 654 739 885 197 266 228 892 207 883 588]]\n",
            "New max element:  997\n",
            "New min element:  117\n"
          ]
        }
      ]
    },
    {
      "cell_type": "markdown",
      "source": [
        "### `Q-8:` You are given an arrays. You have to limit this array's elements between 100 to 200. $arr ∈ [100, 200]$. So replace those values accordingly with the minimum and maximum value. Then sort the array and perform the cumulative sum of that array."
      ],
      "metadata": {
        "id": "0dHN1sdnl0Jy"
      }
    },
    {
      "cell_type": "code",
      "source": [
        "# code here\n",
        "arr = np.random.randint(100, 700, 50).reshape(10, 5)\n",
        "print(arr)\n",
        "\n",
        "new_arr = np.clip(arr, a_min=100, a_max=200)\n",
        "print(\"\\nNew array:\\n\", new_arr)\n",
        "\n",
        "print(\"\\nCumulative Sum: \")\n",
        "np.cumsum(new_arr)"
      ],
      "metadata": {
        "id": "a3YF_E-Hlza7",
        "colab": {
          "base_uri": "https://localhost:8080/"
        },
        "outputId": "ed676c7c-587a-44fc-e229-aba6145159ea"
      },
      "execution_count": 65,
      "outputs": [
        {
          "output_type": "stream",
          "name": "stdout",
          "text": [
            "[[505 381 689 427 478]\n",
            " [573 483 394 401 223]\n",
            " [644 249 392 454 524]\n",
            " [282 632 300 646 249]\n",
            " [574 157 411 133 609]\n",
            " [340 649 456 632 544]\n",
            " [413 131 544 232 482]\n",
            " [410 532 471 405 100]\n",
            " [674 218 153 146 261]\n",
            " [669 454 367 661 564]]\n",
            "\n",
            "New array:\n",
            " [[200 200 200 200 200]\n",
            " [200 200 200 200 200]\n",
            " [200 200 200 200 200]\n",
            " [200 200 200 200 200]\n",
            " [200 157 200 133 200]\n",
            " [200 200 200 200 200]\n",
            " [200 131 200 200 200]\n",
            " [200 200 200 200 100]\n",
            " [200 200 153 146 200]\n",
            " [200 200 200 200 200]]\n",
            "\n",
            "Cumulative Sum: \n"
          ]
        },
        {
          "output_type": "execute_result",
          "data": {
            "text/plain": [
              "array([ 200,  400,  600,  800, 1000, 1200, 1400, 1600, 1800, 2000, 2200,\n",
              "       2400, 2600, 2800, 3000, 3200, 3400, 3600, 3800, 4000, 4200, 4357,\n",
              "       4557, 4690, 4890, 5090, 5290, 5490, 5690, 5890, 6090, 6221, 6421,\n",
              "       6621, 6821, 7021, 7221, 7421, 7621, 7721, 7921, 8121, 8274, 8420,\n",
              "       8620, 8820, 9020, 9220, 9420, 9620])"
            ]
          },
          "metadata": {},
          "execution_count": 65
        }
      ]
    },
    {
      "cell_type": "markdown",
      "source": [
        "### `Q-9:` You are given a array ($arr ∈ [0, 1]$). First you have round off the elements upto 3 decimal places and compare that\n",
        "- 0th percentile == minimum value of the array\n",
        "- 100th percentile == maximum value of the array\n",
        "- also find the difference betwen 51th percenile and 50th percentile values"
      ],
      "metadata": {
        "id": "cXj90Susl4-I"
      }
    },
    {
      "cell_type": "code",
      "source": [
        "# code here\n",
        "np.random.seed(42)\n",
        "arr = np.random.random((5, 4))\n",
        "print(arr)\n",
        "\n",
        "new_arr = np.round(arr, 3)\n",
        "print(\"\\nNew array:\\n\", new_arr)\n",
        "\n",
        "# 1\n",
        "zeroth_perc = np.percentile(new_arr, 0)\n",
        "print(\"\\n0th Percentile: \", zeroth_perc)\n",
        "\n",
        "min_ele = np.min(new_arr)\n",
        "print(\"Minimum value in array: \", min_ele)\n",
        "print(zeroth_perc==min_ele)\n",
        "\n",
        "# 2\n",
        "hun_perc = np.percentile(new_arr, 100)\n",
        "print(\"\\n100th percentile: \", hun_perc)\n",
        "\n",
        "max_ele = np.max(new_arr)\n",
        "print(\"Maximum value in array: \", max_ele)\n",
        "print(hun_perc == max_ele)\n",
        "\n",
        "# 3.\n",
        "fif_perc = np.percentile(new_arr, 50)\n",
        "fifone_perc = np.percentile(new_arr, 51)\n",
        "print(\"\\n50th percentile: \", fif_perc)\n",
        "print(\"51th percentile: \", fifone_perc)\n",
        "print(\"Difference: \", fifone_perc-fif_perc)"
      ],
      "metadata": {
        "id": "SgBEHodgl7Lo",
        "colab": {
          "base_uri": "https://localhost:8080/"
        },
        "outputId": "03be4f0d-db51-4609-d4d0-b083e7eb7396"
      },
      "execution_count": 66,
      "outputs": [
        {
          "output_type": "stream",
          "name": "stdout",
          "text": [
            "[[0.37454012 0.95071431 0.73199394 0.59865848]\n",
            " [0.15601864 0.15599452 0.05808361 0.86617615]\n",
            " [0.60111501 0.70807258 0.02058449 0.96990985]\n",
            " [0.83244264 0.21233911 0.18182497 0.18340451]\n",
            " [0.30424224 0.52475643 0.43194502 0.29122914]]\n",
            "\n",
            "New array:\n",
            " [[0.375 0.951 0.732 0.599]\n",
            " [0.156 0.156 0.058 0.866]\n",
            " [0.601 0.708 0.021 0.97 ]\n",
            " [0.832 0.212 0.182 0.183]\n",
            " [0.304 0.525 0.432 0.291]]\n",
            "\n",
            "0th Percentile:  0.021\n",
            "Minimum value in array:  0.021\n",
            "True\n",
            "\n",
            "100th percentile:  0.97\n",
            "Maximum value in array:  0.97\n",
            "True\n",
            "\n",
            "50th percentile:  0.40349999999999997\n",
            "51th percentile:  0.41433\n",
            "Difference:  0.010830000000000006\n"
          ]
        }
      ]
    }
  ]
}